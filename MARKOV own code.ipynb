{
 "cells": [
  {
   "cell_type": "code",
   "execution_count": 34,
   "metadata": {},
   "outputs": [],
   "source": [
    "import numpy as np\n",
    "import pandas as pd\n",
    "import warnings\n",
    "import re\n",
    "import random\n",
    "import seaborn as sns\n",
    "import matplotlib.pyplot as plt\n",
    "\n",
    "warnings.filterwarnings('ignore')\n",
    "\n",
    "%matplotlib inline"
   ]
  },
  {
   "cell_type": "code",
   "execution_count": 2,
   "metadata": {},
   "outputs": [],
   "source": [
    "cj = pd.read_csv('example_journey.csv')"
   ]
  },
  {
   "cell_type": "code",
   "execution_count": 3,
   "metadata": {},
   "outputs": [
    {
     "data": {
      "text/html": [
       "<div>\n",
       "<style scoped>\n",
       "    .dataframe tbody tr th:only-of-type {\n",
       "        vertical-align: middle;\n",
       "    }\n",
       "\n",
       "    .dataframe tbody tr th {\n",
       "        vertical-align: top;\n",
       "    }\n",
       "\n",
       "    .dataframe thead th {\n",
       "        text-align: right;\n",
       "    }\n",
       "</style>\n",
       "<table border=\"1\" class=\"dataframe\">\n",
       "  <thead>\n",
       "    <tr style=\"text-align: right;\">\n",
       "      <th></th>\n",
       "      <th>Unnamed: 0</th>\n",
       "      <th>path</th>\n",
       "      <th>conv</th>\n",
       "      <th>conv_null</th>\n",
       "      <th>Unnamed: 4</th>\n",
       "    </tr>\n",
       "  </thead>\n",
       "  <tbody>\n",
       "    <tr>\n",
       "      <th>0</th>\n",
       "      <td>1</td>\n",
       "      <td>SEM BRAND &gt; SEM NON BRAND &gt; SHOPPING</td>\n",
       "      <td>1</td>\n",
       "      <td>0</td>\n",
       "      <td>NaN</td>\n",
       "    </tr>\n",
       "    <tr>\n",
       "      <th>1</th>\n",
       "      <td>2</td>\n",
       "      <td>SHOPPING</td>\n",
       "      <td>1</td>\n",
       "      <td>0</td>\n",
       "      <td>NaN</td>\n",
       "    </tr>\n",
       "    <tr>\n",
       "      <th>2</th>\n",
       "      <td>3</td>\n",
       "      <td>SHOPPING</td>\n",
       "      <td>1</td>\n",
       "      <td>0</td>\n",
       "      <td>NaN</td>\n",
       "    </tr>\n",
       "    <tr>\n",
       "      <th>3</th>\n",
       "      <td>4</td>\n",
       "      <td>SHOPPING &gt; OTHERS &gt; RETARGETING &gt; OTHERS &gt; RET...</td>\n",
       "      <td>1</td>\n",
       "      <td>0</td>\n",
       "      <td>NaN</td>\n",
       "    </tr>\n",
       "    <tr>\n",
       "      <th>4</th>\n",
       "      <td>5</td>\n",
       "      <td>SEM BRAND</td>\n",
       "      <td>1</td>\n",
       "      <td>0</td>\n",
       "      <td>NaN</td>\n",
       "    </tr>\n",
       "  </tbody>\n",
       "</table>\n",
       "</div>"
      ],
      "text/plain": [
       "   Unnamed: 0                                               path  conv  \\\n",
       "0           1               SEM BRAND > SEM NON BRAND > SHOPPING     1   \n",
       "1           2                                           SHOPPING     1   \n",
       "2           3                                           SHOPPING     1   \n",
       "3           4  SHOPPING > OTHERS > RETARGETING > OTHERS > RET...     1   \n",
       "4           5                                          SEM BRAND     1   \n",
       "\n",
       "   conv_null  Unnamed: 4  \n",
       "0          0         NaN  \n",
       "1          0         NaN  \n",
       "2          0         NaN  \n",
       "3          0         NaN  \n",
       "4          0         NaN  "
      ]
     },
     "execution_count": 3,
     "metadata": {},
     "output_type": "execute_result"
    }
   ],
   "source": [
    "cj.head()"
   ]
  },
  {
   "cell_type": "markdown",
   "metadata": {},
   "source": [
    "All journeys in this dataframe are converting journeys. This is indicated by column conv_null"
   ]
  },
  {
   "cell_type": "code",
   "execution_count": 11,
   "metadata": {},
   "outputs": [],
   "source": [
    "def strip_repeat_channels(df, path = 'path'):\n",
    "    \"\"\"Strip journeys like > SHOPPING > SHOPPING > SHOPPNG > DIRECT into > SHOPPING > DIRECT\n",
    "    For removale effect calculation same to same channel is not relevant\n",
    "    Ends > conversion or no_conversion to path based on conv column\n",
    "    \n",
    "    INPUT: df = dataframe with paths, path = columnname of paths\n",
    "    OUTPUT: same dataframe with cleaned journeys and list of channel names\n",
    "    \"\"\"\n",
    "    df = df.copy()\n",
    "    \n",
    "    #Get all channel names\n",
    "    all_chnl = []\n",
    "    for p in df[path]:\n",
    "        all_chnl.extend(p.split(' > '))\n",
    "    \n",
    "    #Get all unique channels\n",
    "    all_chnl_unique = list(set(all_chnl))\n",
    "    \n",
    "    \n",
    "    #Add start and end touchpint\n",
    "    df[path] = [ 'start > ' + p + ' > conversion' if c==1 else 'start > ' + p + ' > no_conversion' for c, p in zip(cj['conv'], cj[path])]\n",
    "    \n",
    "    \n",
    "    #Strip consecutive repeats\n",
    "    for chnl in set(all_chnl):\n",
    "        df.path =  [re.sub(\"(> \"+chnl+\" )+\", \"> \"+chnl+\" \", p) for p in df[path]]\n",
    "        \n",
    "    return all_chnl_unique, df\n",
    " \n",
    "def calc_trans_matrix(df, channels, path = 'path'):\n",
    "    \"\"\"\n",
    "    Output: Transition matrix \n",
    "    Input: dataframe containing journeys in the format START > CHANNEL1 > CHANNEL2 > ... > conversion|no_conversion\n",
    "    \"\"\"\n",
    "    trans = [[0]*(len(channels)+1) for _ in range(len(channels)+1)]\n",
    "    for i, i_from in enumerate(channels):\n",
    "        i = i+1\n",
    "        trans[i][len(channels)] = sum([p.endswith(i_from + ' > conversion') for p in df[path]])/sum([p.count(i_from) for p in df[path]])      \n",
    "\n",
    "        for j, j_to in enumerate(channels):\n",
    "            trans[0][j] = sum([p.startswith('start > ' + j_to) for p in df[path]])/len(df[path])\n",
    "        \n",
    "            if sum([p.count(i_from) for p in df[path]]) >0:   \n",
    "                trans[i][j] = sum([p.count(i_from + ' > ' + j_to) for p in df[path]])/ sum([p.count(i_from) for p in df[path]])\n",
    "\n",
    "    return trans"
   ]
  },
  {
   "cell_type": "code",
   "execution_count": 10,
   "metadata": {},
   "outputs": [],
   "source": [
    "def simulate_removal_path(trans_matrix, simulation_n, all_chnl, max_length, remove_chnl = 'NONE'):\n",
    "    \"\"\"\n",
    "    Function simulates n paths returns the amount of converted paths.\n",
    "    If remove_chnl != NONE functions simulates paths after removal\n",
    "    trans_matrix = transition matrix\n",
    "    simulation_n = amount of paths to simulate\n",
    "    remove_chnl = removed channel    \n",
    "    \"\"\"\n",
    "    all_chnl = all_chnl + ['conversion']\n",
    "    trans_val = dict(zip(all_chnl, range(1,len(all_chnl)+1)))\n",
    "    count_conv = 0\n",
    "\n",
    "    for j in range(0,simulation_n):\n",
    "        journey = []\n",
    "        x = random.choices(population = all_chnl, weights= trans_matrix[0], k=1)\n",
    "\n",
    "        journey.append(x[0])\n",
    "        for cj_step in range(0, max_length):   \n",
    "            if x[0] == 'conversion':\n",
    "                count_conv = count_conv +1\n",
    "                #print(journey)\n",
    "                break\n",
    "            if (x[0] == remove_chnl) | (x[0] == 'no_conversion'):\n",
    "                #break journey, if next simulated channel is either removed or ends without conversion\n",
    "                break\n",
    "            x = random.choices(population = all_chnl, weights = trans_matrix[trans_val[x[0]]], k=1)\n",
    "            journey.append(x[0])\n",
    "    return count_conv"
   ]
  },
  {
   "cell_type": "code",
   "execution_count": 21,
   "metadata": {},
   "outputs": [],
   "source": [
    "def removal_effects(cj, simulation_n, max_length = 'max', path = 'path'):\n",
    "    \"\"\"\n",
    "    Function calculates removal effects for dataframe cj.\n",
    "    cj = input df with paths\n",
    "    simulation_n = paths to simulate\n",
    "    max_length = max length of journey\n",
    "    path = column name in cj containing paths as string\n",
    "    \"\"\"\n",
    "        \n",
    "    if max_length == 'max':\n",
    "        max_length = cj.path.str.count('>').max()+1\n",
    "        print('Max length of journey in dataset: ', max_length)\n",
    "        \n",
    "    all_chnl, cj_clean = strip_repeat_channels(cj, path = path)\n",
    "    trans_matrix = calc_trans_matrix(cj_clean, all_chnl, path = path)\n",
    "    \n",
    "    count_conv = simulate_removal_path(trans_matrix, simulation_n, all_chnl, max_length)\n",
    "    print(count_conv)\n",
    "    removal_effects = []\n",
    "    for remove_chnl in all_chnl:\n",
    "        count_conv_removal = simulate_removal_path(trans_matrix, simulation_n, all_chnl, max_length, remove_chnl= remove_chnl)\n",
    "        \n",
    "        removal = 1 - count_conv_removal/count_conv\n",
    "        removal_effects.append([remove_chnl, removal])\n",
    "        print('removal ', remove_chnl, ': ',removal)\n",
    "    return trans_matrix, removal_effects, all_chnl"
   ]
  },
  {
   "cell_type": "code",
   "execution_count": 27,
   "metadata": {},
   "outputs": [
    {
     "name": "stdout",
     "output_type": "stream",
     "text": [
      "Max length of journey in dataset:  12\n",
      "9998\n",
      "removal  SEM NON BRAND :  0.06811362272454491\n",
      "removal  DIRECT :  0.2594518903780756\n",
      "removal  CRM :  0.13602720544108826\n",
      "removal  PARTNERS :  0.01940388077615518\n",
      "removal  RETARGETING :  0.03770754150830169\n",
      "removal  SEO NON BRAND :  0.0859171834366873\n",
      "removal  SHOPPING :  0.7514502900580116\n",
      "removal  SEM BRAND :  0.19693938787757548\n",
      "removal  DISPLAY :  0.01640328065613128\n",
      "removal  OTHERS :  0.02000400080016007\n"
     ]
    }
   ],
   "source": [
    "trans_matrix, removal, all_chnl = removal_effects(cj, 10000, max_length = 'max', path = 'path')"
   ]
  },
  {
   "cell_type": "code",
   "execution_count": 46,
   "metadata": {},
   "outputs": [
    {
     "name": "stdout",
     "output_type": "stream",
     "text": [
      "10000\n",
      "removal  SEM NON BRAND :  0.06710000000000005\n",
      "removal  DIRECT :  0.2552\n",
      "removal  CRM :  0.12949999999999995\n",
      "removal  PARTNERS :  0.018000000000000016\n",
      "removal  RETARGETING :  0.034599999999999964\n",
      "removal  SEO NON BRAND :  0.0847\n",
      "removal  SHOPPING :  0.7431\n",
      "removal  SEM BRAND :  0.20479999999999998\n",
      "removal  DISPLAY :  0.020399999999999974\n",
      "removal  OTHERS :  0.022399999999999975\n"
     ]
    }
   ],
   "source": [
    "trans_matrix, removal, all_chnl = removal_effects(cj, 10000, max_length = 100, path = 'path')"
   ]
  },
  {
   "cell_type": "code",
   "execution_count": 28,
   "metadata": {},
   "outputs": [
    {
     "data": {
      "text/html": [
       "<div>\n",
       "<style scoped>\n",
       "    .dataframe tbody tr th:only-of-type {\n",
       "        vertical-align: middle;\n",
       "    }\n",
       "\n",
       "    .dataframe tbody tr th {\n",
       "        vertical-align: top;\n",
       "    }\n",
       "\n",
       "    .dataframe thead th {\n",
       "        text-align: right;\n",
       "    }\n",
       "</style>\n",
       "<table border=\"1\" class=\"dataframe\">\n",
       "  <thead>\n",
       "    <tr style=\"text-align: right;\">\n",
       "      <th></th>\n",
       "      <th>Channel</th>\n",
       "      <th>removal_effect</th>\n",
       "    </tr>\n",
       "  </thead>\n",
       "  <tbody>\n",
       "    <tr>\n",
       "      <th>0</th>\n",
       "      <td>SEM NON BRAND</td>\n",
       "      <td>0.068114</td>\n",
       "    </tr>\n",
       "    <tr>\n",
       "      <th>1</th>\n",
       "      <td>DIRECT</td>\n",
       "      <td>0.259452</td>\n",
       "    </tr>\n",
       "    <tr>\n",
       "      <th>2</th>\n",
       "      <td>CRM</td>\n",
       "      <td>0.136027</td>\n",
       "    </tr>\n",
       "    <tr>\n",
       "      <th>3</th>\n",
       "      <td>PARTNERS</td>\n",
       "      <td>0.019404</td>\n",
       "    </tr>\n",
       "    <tr>\n",
       "      <th>4</th>\n",
       "      <td>RETARGETING</td>\n",
       "      <td>0.037708</td>\n",
       "    </tr>\n",
       "    <tr>\n",
       "      <th>5</th>\n",
       "      <td>SEO NON BRAND</td>\n",
       "      <td>0.085917</td>\n",
       "    </tr>\n",
       "    <tr>\n",
       "      <th>6</th>\n",
       "      <td>SHOPPING</td>\n",
       "      <td>0.751450</td>\n",
       "    </tr>\n",
       "    <tr>\n",
       "      <th>7</th>\n",
       "      <td>SEM BRAND</td>\n",
       "      <td>0.196939</td>\n",
       "    </tr>\n",
       "    <tr>\n",
       "      <th>8</th>\n",
       "      <td>DISPLAY</td>\n",
       "      <td>0.016403</td>\n",
       "    </tr>\n",
       "    <tr>\n",
       "      <th>9</th>\n",
       "      <td>OTHERS</td>\n",
       "      <td>0.020004</td>\n",
       "    </tr>\n",
       "  </tbody>\n",
       "</table>\n",
       "</div>"
      ],
      "text/plain": [
       "         Channel  removal_effect\n",
       "0  SEM NON BRAND        0.068114\n",
       "1         DIRECT        0.259452\n",
       "2            CRM        0.136027\n",
       "3       PARTNERS        0.019404\n",
       "4    RETARGETING        0.037708\n",
       "5  SEO NON BRAND        0.085917\n",
       "6       SHOPPING        0.751450\n",
       "7      SEM BRAND        0.196939\n",
       "8        DISPLAY        0.016403\n",
       "9         OTHERS        0.020004"
      ]
     },
     "execution_count": 28,
     "metadata": {},
     "output_type": "execute_result"
    }
   ],
   "source": [
    "pd.DataFrame(columns = ['Channel', 'removal_effect'], data = removal)"
   ]
  },
  {
   "cell_type": "code",
   "execution_count": 29,
   "metadata": {},
   "outputs": [
    {
     "data": {
      "text/plain": [
       "[[0.03389830508474576,\n",
       "  0.11864406779661017,\n",
       "  0.0,\n",
       "  0.01694915254237288,\n",
       "  0.0,\n",
       "  0.0847457627118644,\n",
       "  0.5932203389830508,\n",
       "  0.13559322033898305,\n",
       "  0.01694915254237288,\n",
       "  0.0,\n",
       "  0],\n",
       " [0.0, 0.0, 0.25, 0.0, 0.0, 0.0, 0.5, 0.0, 0.0, 0.0, 0.25],\n",
       " [0.0625, 0.0, 0.0625, 0.0, 0.0, 0.0, 0.3125, 0.125, 0.0, 0.0, 0.4375],\n",
       " [0.0, 0.0, 0.0, 0.0, 0.0, 0.0, 0.25, 0.0, 0.0, 0.0, 0.75],\n",
       " [0.0, 0.0, 0.0, 0.0, 0.0, 0.0, 0.0, 0.0, 0.0, 0.0, 1.0],\n",
       " [0.0,\n",
       "  0.0,\n",
       "  0.0,\n",
       "  0.0,\n",
       "  0.0,\n",
       "  0.0,\n",
       "  0.0,\n",
       "  0.0,\n",
       "  0.0,\n",
       "  0.3333333333333333,\n",
       "  0.6666666666666666],\n",
       " [0.0, 0.6, 0.0, 0.0, 0.0, 0.0, 0.2, 0.2, 0.0, 0.0, 0.0],\n",
       " [0.0,\n",
       "  0.043478260869565216,\n",
       "  0.06521739130434782,\n",
       "  0.0,\n",
       "  0.021739130434782608,\n",
       "  0.0,\n",
       "  0.0,\n",
       "  0.021739130434782608,\n",
       "  0.0,\n",
       "  0.021739130434782608,\n",
       "  0.8260869565217391],\n",
       " [0.08333333333333333,\n",
       "  0.3333333333333333,\n",
       "  0.16666666666666666,\n",
       "  0.0,\n",
       "  0.0,\n",
       "  0.0,\n",
       "  0.08333333333333333,\n",
       "  0.0,\n",
       "  0.0,\n",
       "  0.0,\n",
       "  0.3333333333333333],\n",
       " [0.0, 0.0, 1.0, 0.0, 0.0, 0.0, 0.0, 0.0, 0.0, 0.0, 0.0],\n",
       " [0.0, 0.0, 0.0, 0.0, 1.0, 0.0, 0.0, 0.0, 0.0, 0.0, 0.0]]"
      ]
     },
     "execution_count": 29,
     "metadata": {},
     "output_type": "execute_result"
    }
   ],
   "source": [
    "trans_matrix"
   ]
  },
  {
   "cell_type": "code",
   "execution_count": 45,
   "metadata": {},
   "outputs": [
    {
     "data": {
      "image/png": "[encoded data removed]",
      "text/plain": [
       "<Figure size 1080x720 with 2 Axes>"
      ]
     },
     "metadata": {
      "needs_background": "light"
     },
     "output_type": "display_data"
    }
   ],
   "source": [
    "trans_df = pd.DataFrame(trans_matrix)\n",
    "trans_df.columns = all_chnl + ['conversion']\n",
    "trans_df.index = ['START'] + all_chnl\n",
    "f, axs = plt.subplots(figsize=(15,10))\n",
    "axs = sns.heatmap(trans_df, annot=True, cmap=sns.color_palette(\"Blues\", as_cmap=True), linewidths=.5,mask=(trans_df==0))#\"YlGnBu\")\n"
   ]
  },
  {
   "cell_type": "code",
   "execution_count": 40,
   "metadata": {},
   "outputs": [
    {
     "data": {
      "text/plain": [
       "START            1.0\n",
       "SEM NON BRAND    1.0\n",
       "DIRECT           1.0\n",
       "CRM              1.0\n",
       "PARTNERS         1.0\n",
       "RETARGETING      1.0\n",
       "SEO NON BRAND    1.0\n",
       "SHOPPING         1.0\n",
       "SEM BRAND        1.0\n",
       "DISPLAY          1.0\n",
       "OTHERS           1.0\n",
       "dtype: float64"
      ]
     },
     "execution_count": 40,
     "metadata": {},
     "output_type": "execute_result"
    }
   ],
   "source": [
    "trans_df.sum(axis=1)"
   ]
  },
  {
   "cell_type": "code",
   "execution_count": null,
   "metadata": {},
   "outputs": [],
   "source": []
  }
 ],
 "metadata": {
  "kernelspec": {
   "display_name": "Python 3.7.2 64-bit",
   "language": "python",
   "name": "python37264bitb4880e8964d04a4e9d523b66052dae8e"
  },
  "language_info": {
   "codemirror_mode": {
    "name": "ipython",
    "version": 3
   },
   "file_extension": ".py",
   "mimetype": "text/x-python",
   "name": "python",
   "nbconvert_exporter": "python",
   "pygments_lexer": "ipython3",
   "version": "3.7.2"
  },
  "nbTranslate": {
   "displayLangs": [
    "*"
   ],
   "hotkey": "alt-t",
   "langInMainMenu": true,
   "sourceLang": "en",
   "targetLang": "fr",
   "useGoogleTranslate": true
  },
  "toc": {
   "base_numbering": 1,
   "nav_menu": {},
   "number_sections": true,
   "sideBar": true,
   "skip_h1_title": false,
   "title_cell": "Table of Contents",
   "title_sidebar": "Contents",
   "toc_cell": false,
   "toc_position": {},
   "toc_section_display": true,
   "toc_window_display": false
  }
 },
 "nbformat": 4,
 "nbformat_minor": 2
}
